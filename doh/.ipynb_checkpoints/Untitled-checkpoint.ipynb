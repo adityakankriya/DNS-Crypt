{
 "cells": [
  {
   "cell_type": "code",
   "execution_count": 11,
   "metadata": {},
   "outputs": [
    {
     "ename": "NameError",
     "evalue": "name 'input_group' is not defined",
     "output_type": "error",
     "traceback": [
      "\u001b[0;31m---------------------------------------------------------------------------\u001b[0m",
      "\u001b[0;31mNameError\u001b[0m                                 Traceback (most recent call last)",
      "\u001b[0;32m<ipython-input-11-29d13c568ccf>\u001b[0m in \u001b[0;36m<module>\u001b[0;34m\u001b[0m\n\u001b[1;32m     54\u001b[0m \u001b[0;34m\u001b[0m\u001b[0m\n\u001b[1;32m     55\u001b[0m \u001b[0;32mif\u001b[0m \u001b[0m__name__\u001b[0m \u001b[0;34m==\u001b[0m \u001b[0;34m'__main__'\u001b[0m\u001b[0;34m:\u001b[0m\u001b[0;34m\u001b[0m\u001b[0;34m\u001b[0m\u001b[0m\n\u001b[0;32m---> 56\u001b[0;31m     \u001b[0mmain\u001b[0m\u001b[0;34m(\u001b[0m\u001b[0;34m)\u001b[0m\u001b[0;34m\u001b[0m\u001b[0;34m\u001b[0m\u001b[0m\n\u001b[0m",
      "\u001b[0;32m<ipython-input-11-29d13c568ccf>\u001b[0m in \u001b[0;36mmain\u001b[0;34m()\u001b[0m\n\u001b[1;32m     26\u001b[0m \u001b[0;34m\u001b[0m\u001b[0m\n\u001b[1;32m     27\u001b[0m     \u001b[0;31m#input_group = parser.add_mutually_exclusive_group(required=True)\u001b[0m\u001b[0;34m\u001b[0m\u001b[0;34m\u001b[0m\u001b[0;34m\u001b[0m\u001b[0m\n\u001b[0;32m---> 28\u001b[0;31m     input_group.add_argument('-n', '--online', '--interface', action='store', dest='input_interface',\n\u001b[0m\u001b[1;32m     29\u001b[0m                              help='capture online data from INPUT_INTERFACE')\n\u001b[1;32m     30\u001b[0m     input_group.add_argument('-f', '--offline', '--file', action='store', dest='input_file',\n",
      "\u001b[0;31mNameError\u001b[0m: name 'input_group' is not defined"
     ]
    }
   ],
   "source": [
    "# %load dohlyzer.py\n",
    "#!/usr/bin/env python\n",
    "\n",
    "import argparse\n",
    "\n",
    "from scapy.all import load_layer\n",
    "from scapy.sendrecv import AsyncSniffer\n",
    "\n",
    "from meter.flow_session import generate_session_class\n",
    "\n",
    "\n",
    "def create_sniffer(input_file, input_interface, output_mode, output_file):\n",
    "    assert (input_file is None) ^ (input_interface is None)\n",
    "\n",
    "    NewFlowSession = generate_session_class(output_mode, output_file)\n",
    "\n",
    "    if input_file is not None:\n",
    "        return AsyncSniffer(offline=input_file, filter='tcp port 443', prn=None, session=NewFlowSession, store=False)\n",
    "    else:\n",
    "        return AsyncSniffer(iface=input_interface, filter='tcp port 443', prn=None,\n",
    "                            session=NewFlowSession, store=False)\n",
    "\n",
    "\n",
    "def main():\n",
    "    parser = argparse.ArgumentParser()\n",
    "\n",
    "    input_group = parser.add_mutually_exclusive_group(required=True)\n",
    "    input_group.add_argument('-n', '--online', '--interface', action='store', dest='input_interface',\n",
    "                             help='capture online data from INPUT_INTERFACE')\n",
    "    input_group.add_argument('-f', '--offline', '--file', action='store', dest='input_file',\n",
    "                             help='capture offline data from INPUT_FILE')\n",
    "\n",
    "    output_group = parser.add_mutually_exclusive_group(required=True)\n",
    "    output_group.add_argument('-c', '--csv', '--flow', action='store_const', const='flow', dest='output_mode',\n",
    "                              help='output flows as csv')\n",
    "    output_group.add_argument('-s', '--json', '--sequence', action='store_const', const='sequence', dest='output_mode',\n",
    "                              help='output flow segments as json')\n",
    "\n",
    "    parser.add_argument('output', help='output file name (in flow mode) or directory (in sequence mode)')\n",
    "    args = parser.parse_args()\n",
    "\n",
    "    load_layer('tls')\n",
    "\n",
    "    sniffer = create_sniffer(args.input_file, args.input_interface, args.output_mode, args.output)\n",
    "    sniffer.start()\n",
    "\n",
    "    try:\n",
    "        sniffer.join()\n",
    "    except KeyboardInterrupt:\n",
    "        sniffer.stop()\n",
    "    finally:\n",
    "        sniffer.join()\n",
    "\n",
    "\n",
    "if __name__ == '__main__':\n",
    "    main()\n"
   ]
  },
  {
   "cell_type": "code",
   "execution_count": null,
   "metadata": {},
   "outputs": [],
   "source": []
  }
 ],
 "metadata": {
  "kernelspec": {
   "display_name": "Python 3",
   "language": "python",
   "name": "python3"
  },
  "language_info": {
   "codemirror_mode": {
    "name": "ipython",
    "version": 3
   },
   "file_extension": ".py",
   "mimetype": "text/x-python",
   "name": "python",
   "nbconvert_exporter": "python",
   "pygments_lexer": "ipython3",
   "version": "3.6.10"
  }
 },
 "nbformat": 4,
 "nbformat_minor": 5
}
